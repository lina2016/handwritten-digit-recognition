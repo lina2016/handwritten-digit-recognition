{
 "cells": [
  {
   "cell_type": "markdown",
   "id": "0c389fa9",
   "metadata": {},
   "source": [
    "# 🧠 Beginner Project: Handwritten Digit Recognition using CNN (MNIST Dataset)\n",
    "\n",
    "\n",
    "#### 📦 Tools & Libraries:\n",
    "\n",
    "- Python\n",
    "- TensorFlow/Keras\n",
    "- NumPy, Matplotlib\n",
    "- Jupyter Notebook (recommended)\n",
    "\n",
    "#### 📚 Concepts You’ll Learn:\n",
    "\n",
    "- Image preprocessing\n",
    "- Building and training a CNN\n",
    "- Evaluating model performance\n",
    "- Visualizing training and predictions\n",
    "- Saving/loading models\n",
    "- Optional: basic data augmentation"
   ]
  },
  {
   "cell_type": "code",
   "execution_count": null,
   "id": "ed285f2f",
   "metadata": {},
   "outputs": [],
   "source": [
    "!pip install matplotlib"
   ]
  },
  {
   "cell_type": "markdown",
   "id": "f10a6049",
   "metadata": {},
   "source": [
    "# 📦 1. Import Libraries"
   ]
  },
  {
   "cell_type": "code",
   "execution_count": 3,
   "id": "9b2582ef",
   "metadata": {},
   "outputs": [
    {
     "name": "stdout",
     "output_type": "stream",
     "text": [
      "tf.Tensor(b'Hello from TensorFlow \\xf0\\x9f\\x91\\x8b', shape=(), dtype=string)\n",
      "2.13.0\n"
     ]
    }
   ],
   "source": [
    "import tensorflow as tf\n",
    "\n",
    "hello = tf.constant(\"Hello from TensorFlow 👋\")\n",
    "print(hello)\n",
    "print(tf.__version__)"
   ]
  },
  {
   "cell_type": "code",
   "execution_count": 4,
   "id": "b8e2ee4a",
   "metadata": {},
   "outputs": [],
   "source": [
    "import numpy as np\n",
    "import matplotlib.pyplot as plt\n",
    "from tensorflow.keras.datasets import mnist\n",
    "from tensorflow.keras.models import Sequential  \n",
    "from tensorflow.keras.models import Sequential\n",
    "from tensorflow.keras.layers import Conv2D, MaxPooling2D, Flatten, Dense\n",
    "from tensorflow.keras.utils import to_categorical"
   ]
  },
  {
   "cell_type": "markdown",
   "id": "6d06c08d",
   "metadata": {},
   "source": [
    "# 📥 2. Load and Preprocess the Data"
   ]
  },
  {
   "cell_type": "code",
   "execution_count": 5,
   "id": "5833d34d",
   "metadata": {},
   "outputs": [],
   "source": [
    "from tensorflow.keras.datasets import mnist\n",
    "\n",
    "(x_train, y_train), (x_test, y_test) = mnist.load_data()"
   ]
  },
  {
   "cell_type": "code",
   "execution_count": 6,
   "id": "9e384113",
   "metadata": {},
   "outputs": [],
   "source": [
    "# Normalize pixel values\n",
    "\n",
    "x_train = x_train.reshape(-1, 28, 28, 1).astype(\"float32\") / 255.0\n",
    "x_test = x_test.reshape(-1, 28, 28, 1).astype(\"float32\") / 255.0\n",
    "\n",
    "\n",
    "# Optional: One-hot encoding (if using categorical loss)\n",
    "# y_train = to_categorical(y_train)\n",
    "# y_test = to_categorical(y_test)"
   ]
  },
  {
   "cell_type": "markdown",
   "id": "15b23ba1",
   "metadata": {},
   "source": [
    "# 🔧 3. Build the CNN Model"
   ]
  },
  {
   "cell_type": "code",
   "execution_count": 7,
   "id": "824b5de7",
   "metadata": {},
   "outputs": [],
   "source": [
    "model = Sequential([\n",
    "\n",
    "    Conv2D(32, (3,3), activation='relu', input_shape=(28,28,1)),\n",
    "    MaxPooling2D(2,2),\n",
    "    Conv2D(64, (3,3), activation='relu'),\n",
    "    MaxPooling2D(2,2),\n",
    "    Flatten(),\n",
    "    Dense(128, activation='relu'),\n",
    "    Dense(10, activation='softmax')  # 10 classes for digits 0–9\n",
    "\n",
    "])"
   ]
  },
  {
   "cell_type": "markdown",
   "id": "8ed9f705",
   "metadata": {},
   "source": [
    "# ⚙️ 4. Compile the Model"
   ]
  },
  {
   "cell_type": "code",
   "execution_count": 8,
   "id": "f1c49470",
   "metadata": {},
   "outputs": [],
   "source": [
    "model.compile(optimizer='adam',\n",
    "              loss='sparse_categorical_crossentropy',\n",
    "              metrics=['accuracy'])"
   ]
  },
  {
   "cell_type": "markdown",
   "id": "66aa7a49",
   "metadata": {},
   "source": [
    "# 🏋️ 5. Train the Model"
   ]
  },
  {
   "cell_type": "code",
   "execution_count": 9,
   "id": "44ad7f93",
   "metadata": {},
   "outputs": [
    {
     "name": "stdout",
     "output_type": "stream",
     "text": [
      "Epoch 1/5\n",
      "1688/1688 [==============================] - 33s 19ms/step - loss: 0.1405 - accuracy: 0.9570 - val_loss: 0.0486 - val_accuracy: 0.9847\n",
      "Epoch 2/5\n",
      "1688/1688 [==============================] - 30s 18ms/step - loss: 0.0454 - accuracy: 0.9853 - val_loss: 0.0394 - val_accuracy: 0.9893\n",
      "Epoch 3/5\n",
      "1688/1688 [==============================] - 30s 18ms/step - loss: 0.0305 - accuracy: 0.9903 - val_loss: 0.0328 - val_accuracy: 0.9917\n",
      "Epoch 4/5\n",
      "1688/1688 [==============================] - 37s 22ms/step - loss: 0.0205 - accuracy: 0.9934 - val_loss: 0.0351 - val_accuracy: 0.9903\n",
      "Epoch 5/5\n",
      "1688/1688 [==============================] - 33s 20ms/step - loss: 0.0160 - accuracy: 0.9950 - val_loss: 0.0370 - val_accuracy: 0.9902\n"
     ]
    }
   ],
   "source": [
    "history = model.fit(x_train, y_train, epochs=5, validation_split=0.1)"
   ]
  },
  {
   "cell_type": "markdown",
   "id": "c357feea",
   "metadata": {},
   "source": [
    "# 📈 6. Evaluate the Model"
   ]
  },
  {
   "cell_type": "code",
   "execution_count": 10,
   "id": "6923885a",
   "metadata": {},
   "outputs": [
    {
     "name": "stdout",
     "output_type": "stream",
     "text": [
      "313/313 [==============================] - 3s 8ms/step - loss: 0.0299 - accuracy: 0.9908\n",
      "\n",
      "✅ Test accuracy: 0.9908\n"
     ]
    }
   ],
   "source": [
    "test_loss, test_acc = model.evaluate(x_test, y_test)\n",
    "print(f\"\\n✅ Test accuracy: {test_acc:.4f}\")"
   ]
  },
  {
   "cell_type": "markdown",
   "id": "fd7452d9",
   "metadata": {},
   "source": [
    "# 📊 7. Plot Training History"
   ]
  },
  {
   "cell_type": "code",
   "execution_count": 11,
   "id": "59d22178",
   "metadata": {},
   "outputs": [
    {
     "data": {
      "image/png": "[encoded data removed]",
      "text/plain": [
       "<Figure size 640x480 with 1 Axes>"
      ]
     },
     "metadata": {},
     "output_type": "display_data"
    }
   ],
   "source": [
    "plt.plot(history.history['accuracy'], label='train acc')\n",
    "plt.plot(history.history['val_accuracy'], label='val acc')\n",
    "plt.title('Accuracy over Epochs')\n",
    "plt.xlabel('Epoch')\n",
    "plt.ylabel('Accuracy')\n",
    "plt.legend()\n",
    "plt.show()"
   ]
  },
  {
   "cell_type": "markdown",
   "id": "e2f6cfba",
   "metadata": {},
   "source": [
    "# 🧪 8. Predict and Visualize"
   ]
  },
  {
   "cell_type": "code",
   "execution_count": 12,
   "id": "daecf925",
   "metadata": {},
   "outputs": [
    {
     "name": "stdout",
     "output_type": "stream",
     "text": [
      "313/313 [==============================] - 3s 8ms/step\n"
     ]
    },
    {
     "data": {
      "image/png": "[encoded data removed]",
      "text/plain": [
       "<Figure size 640x480 with 1 Axes>"
      ]
     },
     "metadata": {},
     "output_type": "display_data"
    }
   ],
   "source": [
    "predictions = model.predict(x_test)\n",
    "\n",
    "def plot_image(index):\n",
    "    plt.imshow(x_test[index].reshape(28,28), cmap='gray')\n",
    "    plt.title(f\"Predicted: {np.argmax(predictions[index])} | Actual: {y_test[index]}\")\n",
    "    plt.axis('off')\n",
    "    plt.show()\n",
    "plot_image(0)  # Try different indexes"
   ]
  },
  {
   "cell_type": "code",
   "execution_count": 13,
   "id": "7e44bd7e",
   "metadata": {},
   "outputs": [],
   "source": [
    "import os\n",
    "os.makedirs(\"images\", exist_ok=True)"
   ]
  },
  {
   "cell_type": "code",
   "execution_count": 14,
   "id": "b873026d",
   "metadata": {},
   "outputs": [
    {
     "data": {
      "image/png": "[encoded data removed]",
      "text/plain": [
       "<Figure size 640x480 with 1 Axes>"
      ]
     },
     "metadata": {},
     "output_type": "display_data"
    }
   ],
   "source": [
    "# Save prediction image\n",
    "\n",
    "plt.imshow(x_test[0].reshape(28,28), cmap='gray')\n",
    "plt.title(f\"Predicted: {np.argmax(predictions[0])}, Actual: {y_test[0]}\")\n",
    "plt.axis('off')\n",
    "plt.savefig(\"images/example.png\")"
   ]
  },
  {
   "cell_type": "markdown",
   "id": "35de6eb4",
   "metadata": {},
   "source": [
    "# 💾 9. Save the Model"
   ]
  },
  {
   "cell_type": "code",
   "execution_count": null,
   "id": "90b042db",
   "metadata": {},
   "outputs": [],
   "source": [
    "model.save(\"mnist_cnn_model.h5\")"
   ]
  },
  {
   "cell_type": "markdown",
   "id": "a6579988",
   "metadata": {},
   "source": []
  }
 ],
 "metadata": {
  "kernelspec": {
   "display_name": "tfenv311",
   "language": "python",
   "name": "python3"
  },
  "language_info": {
   "codemirror_mode": {
    "name": "ipython",
    "version": 3
   },
   "file_extension": ".py",
   "mimetype": "text/x-python",
   "name": "python",
   "nbconvert_exporter": "python",
   "pygments_lexer": "ipython3",
   "version": "3.11.5"
  }
 },
 "nbformat": 4,
 "nbformat_minor": 5
}
